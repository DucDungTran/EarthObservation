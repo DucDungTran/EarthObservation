{
 "cells": [
  {
   "cell_type": "code",
   "execution_count": 1,
   "id": "864cd2c8-60f0-4188-b44f-3ba5a256eea1",
   "metadata": {},
   "outputs": [
    {
     "name": "stdout",
     "output_type": "stream",
     "text": [
      "OK\n"
     ]
    }
   ],
   "source": [
    "# ------------ Import Libraries ------------\n",
    "import os\n",
    "import time\n",
    "import torch\n",
    "import torch.nn as nn\n",
    "import torch.optim as optim\n",
    "import torchvision.transforms as transforms\n",
    "from torchvision.datasets import ImageFolder\n",
    "from torch.utils.data import DataLoader\n",
    "from tqdm import tqdm\n",
    "import matplotlib.pyplot as plt\n",
    "import csv\n",
    "from sklearn.metrics import accuracy_score, precision_score, recall_score, confusion_matrix, ConfusionMatrixDisplay\n",
    "print(\"OK\")"
   ]
  },
  {
   "cell_type": "code",
   "execution_count": 2,
   "id": "17a3cfda-47ed-417f-b6c9-bc5fb7ae4430",
   "metadata": {},
   "outputs": [
    {
     "name": "stdout",
     "output_type": "stream",
     "text": [
      "Using device: cuda\n",
      "GPU name: Tesla V100-SXM2-32GB\n"
     ]
    }
   ],
   "source": [
    "# --------- Initialize Parameters -------------\n",
    "num_classes = 10# dataset includes 10 classes\n",
    "epochs = 20\n",
    "learning_rate = 0.001\n",
    "batch_size = 64\n",
    "weight_decay = 0.0005\n",
    "model_name = \"cnn\"\n",
    "results_dir = \"results\"\n",
    "os.makedirs(results_dir, exist_ok=True)\n",
    "\n",
    "# --------- Select CPU or GPU to run ----------\n",
    "device = torch.device(\"cuda\" if torch.cuda.is_available() else \"cpu\")\n",
    "print(f\"Using device: {device}\")\n",
    "\n",
    "#--------- Check the name of the GPU --------\n",
    "if torch.cuda.is_available():\n",
    "    print(f\"GPU name: {torch.cuda.get_device_name(0)}\")"
   ]
  },
  {
   "cell_type": "code",
   "execution_count": 3,
   "id": "43a520d5-432f-433e-a066-06e3645e093d",
   "metadata": {},
   "outputs": [
    {
     "name": "stdout",
     "output_type": "stream",
     "text": [
      "OK\n"
     ]
    }
   ],
   "source": [
    "#---------- Processing Data --------------\n",
    "transform = transforms.Compose([\n",
    "    transforms.Resize((224, 224)),\n",
    "    transforms.ToTensor(),\n",
    "    transforms.Normalize([0.485, 0.456, 0.406], [0.229, 0.224, 0.225])\n",
    "])\n",
    "\n",
    "train_dir = \"/home/users/dtran/sentry/eurosat/dataset/train\"\n",
    "val_dir = \"/home/users/dtran/sentry/eurosat/dataset/test\"\n",
    "\n",
    "train_dataset = ImageFolder(root=train_dir, transform=transform)\n",
    "val_dataset = ImageFolder(root=val_dir, transform=transform)\n",
    "\n",
    "train_loader = DataLoader(train_dataset, batch_size=batch_size, shuffle=True)\n",
    "val_loader = DataLoader(val_dataset, batch_size=batch_size, shuffle=False)\n",
    "print(\"OK\")"
   ]
  },
  {
   "cell_type": "code",
   "execution_count": 6,
   "id": "3bf7a503-b997-4356-9468-02b93da83906",
   "metadata": {},
   "outputs": [
    {
     "name": "stdout",
     "output_type": "stream",
     "text": [
      "Model OK\n"
     ]
    }
   ],
   "source": [
    "# ----------------- Model -----------------\n",
    "class CNN(nn.Module):\n",
    "    def __init__(self, num_classes=10):\n",
    "        super(CNN, self).__init__()\n",
    "        self.conv1 = nn.Conv2d(3, 64, kernel_size=3, stride=1, padding=1)\n",
    "        self.conv2 = nn.Conv2d(64, 128, kernel_size=3, stride=1, padding=1)\n",
    "        self.conv3 = nn.Conv2d(128, 256, kernel_size=3, stride=1, padding=1)\n",
    "        self.pool = nn.MaxPool2d(2, 2)\n",
    "        self.fc1 = nn.Linear(256 * 28 * 28, 512)\n",
    "        self.fc2 = nn.Linear(512, num_classes)\n",
    "        self.relu = nn.ReLU()\n",
    "        self.dropout = nn.Dropout(0.5)\n",
    "        \n",
    "    def forward(self, x):\n",
    "        x = self.pool(self.relu(self.conv1(x)))\n",
    "        x = self.pool(self.relu(self.conv2(x)))\n",
    "        x = self.pool(self.relu(self.conv3(x)))\n",
    "        x = x.view(-1, 256 * 28 * 28)  # Flatten the tensor\n",
    "        x = self.relu(self.fc1(x))\n",
    "        x = self.dropout(x)\n",
    "        x = self.fc2(x)\n",
    "        return x\n",
    "\n",
    "# Initialize the CNN model\n",
    "model = CNN(num_classes=10)  # You can use a different number of classes based on your dataset\n",
    "model = model.to(device)\n",
    "\n",
    "criterion = nn.CrossEntropyLoss()\n",
    "optimizer = optim.Adam(model.parameters(), lr=learning_rate, weight_decay=weight_decay)\n",
    "scheduler = optim.lr_scheduler.StepLR(optimizer, step_size=7, gamma=0.1)\n",
    "\n",
    "print(\"Model OK\")"
   ]
  },
  {
   "cell_type": "code",
   "execution_count": 7,
   "id": "b2f22244-c933-4fe9-8e1a-257faabffb3c",
   "metadata": {},
   "outputs": [
    {
     "name": "stderr",
     "output_type": "stream",
     "text": [
      "Epoch [1/20]: 100%|█████████████████████████████████████████████████| 338/338 [01:02<00:00,  5.43it/s, accuracy=54, loss=0.87]\n"
     ]
    },
    {
     "name": "stdout",
     "output_type": "stream",
     "text": [
      "\n",
      "Epoch 1 - Train Loss: 1.3019, Train Acc: 54.03%\n",
      "\n",
      "Epoch 1 - Val Loss: 0.9495, Val Acc: 66.81%\n",
      "\n"
     ]
    },
    {
     "name": "stderr",
     "output_type": "stream",
     "text": [
      "Epoch [2/20]: 100%|██████████████████████████████████████████████| 338/338 [01:01<00:00,  5.53it/s, accuracy=71.8, loss=0.836]\n"
     ]
    },
    {
     "name": "stdout",
     "output_type": "stream",
     "text": [
      "\n",
      "Epoch 2 - Train Loss: 0.8016, Train Acc: 71.83%\n",
      "\n",
      "Epoch 2 - Val Loss: 0.6662, Val Acc: 77.35%\n",
      "\n"
     ]
    },
    {
     "name": "stderr",
     "output_type": "stream",
     "text": [
      "Epoch [3/20]: 100%|██████████████████████████████████████████████| 338/338 [00:58<00:00,  5.76it/s, accuracy=77.7, loss=0.547]\n"
     ]
    },
    {
     "name": "stdout",
     "output_type": "stream",
     "text": [
      "\n",
      "Epoch 3 - Train Loss: 0.6415, Train Acc: 77.72%\n",
      "\n",
      "Epoch 3 - Val Loss: 0.5472, Val Acc: 81.31%\n",
      "\n"
     ]
    },
    {
     "name": "stderr",
     "output_type": "stream",
     "text": [
      "Epoch [4/20]: 100%|██████████████████████████████████████████████| 338/338 [00:57<00:00,  5.86it/s, accuracy=80.9, loss=0.652]\n"
     ]
    },
    {
     "name": "stdout",
     "output_type": "stream",
     "text": [
      "\n",
      "Epoch 4 - Train Loss: 0.5504, Train Acc: 80.90%\n",
      "\n",
      "Epoch 4 - Val Loss: 0.5103, Val Acc: 82.04%\n",
      "\n"
     ]
    },
    {
     "name": "stderr",
     "output_type": "stream",
     "text": [
      "Epoch [5/20]: 100%|██████████████████████████████████████████████| 338/338 [00:59<00:00,  5.73it/s, accuracy=82.2, loss=0.514]\n"
     ]
    },
    {
     "name": "stdout",
     "output_type": "stream",
     "text": [
      "\n",
      "Epoch 5 - Train Loss: 0.5048, Train Acc: 82.18%\n",
      "\n",
      "Epoch 5 - Val Loss: 0.5180, Val Acc: 81.61%\n",
      "\n"
     ]
    },
    {
     "name": "stderr",
     "output_type": "stream",
     "text": [
      "Epoch [6/20]: 100%|██████████████████████████████████████████████| 338/338 [01:00<00:00,  5.61it/s, accuracy=85.5, loss=0.453]\n"
     ]
    },
    {
     "name": "stdout",
     "output_type": "stream",
     "text": [
      "\n",
      "Epoch 6 - Train Loss: 0.4171, Train Acc: 85.54%\n",
      "\n",
      "Epoch 6 - Val Loss: 0.4178, Val Acc: 85.98%\n",
      "\n"
     ]
    },
    {
     "name": "stderr",
     "output_type": "stream",
     "text": [
      "Epoch [7/20]: 100%|██████████████████████████████████████████████| 338/338 [00:59<00:00,  5.69it/s, accuracy=86.7, loss=0.434]\n"
     ]
    },
    {
     "name": "stdout",
     "output_type": "stream",
     "text": [
      "\n",
      "Epoch 7 - Train Loss: 0.3865, Train Acc: 86.69%\n",
      "\n",
      "Epoch 7 - Val Loss: 0.4457, Val Acc: 84.76%\n",
      "\n"
     ]
    },
    {
     "name": "stderr",
     "output_type": "stream",
     "text": [
      "Epoch [8/20]: 100%|██████████████████████████████████████████████| 338/338 [01:00<00:00,  5.60it/s, accuracy=93.4, loss=0.211]\n"
     ]
    },
    {
     "name": "stdout",
     "output_type": "stream",
     "text": [
      "\n",
      "Epoch 8 - Train Loss: 0.2086, Train Acc: 93.38%\n",
      "\n",
      "Epoch 8 - Val Loss: 0.3319, Val Acc: 88.81%\n",
      "\n"
     ]
    },
    {
     "name": "stderr",
     "output_type": "stream",
     "text": [
      "Epoch [9/20]: 100%|██████████████████████████████████████████████| 338/338 [00:58<00:00,  5.79it/s, accuracy=94.9, loss=0.243]\n"
     ]
    },
    {
     "name": "stdout",
     "output_type": "stream",
     "text": [
      "\n",
      "Epoch 9 - Train Loss: 0.1625, Train Acc: 94.86%\n",
      "\n",
      "Epoch 9 - Val Loss: 0.3300, Val Acc: 89.11%\n",
      "\n"
     ]
    },
    {
     "name": "stderr",
     "output_type": "stream",
     "text": [
      "Epoch [10/20]: 100%|█████████████████████████████████████████████| 338/338 [01:00<00:00,  5.63it/s, accuracy=95.7, loss=0.174]\n"
     ]
    },
    {
     "name": "stdout",
     "output_type": "stream",
     "text": [
      "\n",
      "Epoch 10 - Train Loss: 0.1402, Train Acc: 95.72%\n",
      "\n",
      "Epoch 10 - Val Loss: 0.3192, Val Acc: 89.41%\n",
      "\n"
     ]
    },
    {
     "name": "stderr",
     "output_type": "stream",
     "text": [
      "Epoch [11/20]: 100%|████████████████████████████████████████████| 338/338 [00:57<00:00,  5.85it/s, accuracy=96.4, loss=0.0663]\n"
     ]
    },
    {
     "name": "stdout",
     "output_type": "stream",
     "text": [
      "\n",
      "Epoch 11 - Train Loss: 0.1186, Train Acc: 96.42%\n",
      "\n",
      "Epoch 11 - Val Loss: 0.3221, Val Acc: 89.41%\n",
      "\n"
     ]
    },
    {
     "name": "stderr",
     "output_type": "stream",
     "text": [
      "Epoch [12/20]: 100%|██████████████████████████████████████████████| 338/338 [00:58<00:00,  5.82it/s, accuracy=97, loss=0.0343]\n"
     ]
    },
    {
     "name": "stdout",
     "output_type": "stream",
     "text": [
      "\n",
      "Epoch 12 - Train Loss: 0.1015, Train Acc: 97.03%\n",
      "\n",
      "Epoch 12 - Val Loss: 0.3320, Val Acc: 89.22%\n",
      "\n"
     ]
    },
    {
     "name": "stderr",
     "output_type": "stream",
     "text": [
      "Epoch [13/20]: 100%|█████████████████████████████████████████████| 338/338 [00:58<00:00,  5.82it/s, accuracy=97.4, loss=0.142]\n"
     ]
    },
    {
     "name": "stdout",
     "output_type": "stream",
     "text": [
      "\n",
      "Epoch 13 - Train Loss: 0.0908, Train Acc: 97.37%\n",
      "\n",
      "Epoch 13 - Val Loss: 0.3478, Val Acc: 89.09%\n",
      "\n"
     ]
    },
    {
     "name": "stderr",
     "output_type": "stream",
     "text": [
      "Epoch [14/20]: 100%|████████████████████████████████████████████| 338/338 [00:57<00:00,  5.85it/s, accuracy=97.6, loss=0.0462]\n"
     ]
    },
    {
     "name": "stdout",
     "output_type": "stream",
     "text": [
      "\n",
      "Epoch 14 - Train Loss: 0.0807, Train Acc: 97.60%\n",
      "\n",
      "Epoch 14 - Val Loss: 0.3481, Val Acc: 88.91%\n",
      "\n"
     ]
    },
    {
     "name": "stderr",
     "output_type": "stream",
     "text": [
      "Epoch [15/20]: 100%|██████████████████████████████████████████████| 338/338 [00:57<00:00,  5.87it/s, accuracy=98.4, loss=0.14]\n"
     ]
    },
    {
     "name": "stdout",
     "output_type": "stream",
     "text": [
      "\n",
      "Epoch 15 - Train Loss: 0.0641, Train Acc: 98.44%\n",
      "\n",
      "Epoch 15 - Val Loss: 0.3386, Val Acc: 89.54%\n",
      "\n"
     ]
    },
    {
     "name": "stderr",
     "output_type": "stream",
     "text": [
      "Epoch [16/20]: 100%|█████████████████████████████████████████████| 338/338 [00:57<00:00,  5.83it/s, accuracy=98.6, loss=0.036]\n"
     ]
    },
    {
     "name": "stdout",
     "output_type": "stream",
     "text": [
      "\n",
      "Epoch 16 - Train Loss: 0.0602, Train Acc: 98.56%\n",
      "\n",
      "Epoch 16 - Val Loss: 0.3353, Val Acc: 89.57%\n",
      "\n"
     ]
    },
    {
     "name": "stderr",
     "output_type": "stream",
     "text": [
      "Epoch [17/20]: 100%|█████████████████████████████████████████████| 338/338 [00:57<00:00,  5.87it/s, accuracy=98.7, loss=0.067]\n"
     ]
    },
    {
     "name": "stdout",
     "output_type": "stream",
     "text": [
      "\n",
      "Epoch 17 - Train Loss: 0.0572, Train Acc: 98.68%\n",
      "\n",
      "Epoch 17 - Val Loss: 0.3410, Val Acc: 89.61%\n",
      "\n"
     ]
    },
    {
     "name": "stderr",
     "output_type": "stream",
     "text": [
      "Epoch [18/20]: 100%|████████████████████████████████████████████| 338/338 [00:57<00:00,  5.89it/s, accuracy=98.6, loss=0.0341]\n"
     ]
    },
    {
     "name": "stdout",
     "output_type": "stream",
     "text": [
      "\n",
      "Epoch 18 - Train Loss: 0.0570, Train Acc: 98.63%\n",
      "\n",
      "Epoch 18 - Val Loss: 0.3387, Val Acc: 89.46%\n",
      "\n"
     ]
    },
    {
     "name": "stderr",
     "output_type": "stream",
     "text": [
      "Epoch [19/20]: 100%|█████████████████████████████████████████████| 338/338 [00:57<00:00,  5.91it/s, accuracy=98.8, loss=0.137]\n"
     ]
    },
    {
     "name": "stdout",
     "output_type": "stream",
     "text": [
      "\n",
      "Epoch 19 - Train Loss: 0.0539, Train Acc: 98.77%\n",
      "\n",
      "Epoch 19 - Val Loss: 0.3395, Val Acc: 89.56%\n",
      "\n"
     ]
    },
    {
     "name": "stderr",
     "output_type": "stream",
     "text": [
      "Epoch [20/20]: 100%|████████████████████████████████████████████| 338/338 [00:57<00:00,  5.87it/s, accuracy=98.7, loss=0.0432]\n"
     ]
    },
    {
     "name": "stdout",
     "output_type": "stream",
     "text": [
      "\n",
      "Epoch 20 - Train Loss: 0.0554, Train Acc: 98.68%\n",
      "\n",
      "Epoch 20 - Val Loss: 0.3433, Val Acc: 89.54%\n",
      "\n"
     ]
    }
   ],
   "source": [
    "# ----------------- Training -----------------\n",
    "train_losses, val_losses = [], []\n",
    "train_accuracies, val_accuracies = [], []\n",
    "\n",
    "for epoch in range(epochs):\n",
    "    model.train()\n",
    "    running_loss = 0.0\n",
    "    correct = 0\n",
    "    total = 0\n",
    "\n",
    "    loop = tqdm(train_loader, desc=f\"Epoch [{epoch+1}/{epochs}]\")\n",
    "    for images, labels in loop:\n",
    "        images, labels = images.to(device), labels.to(device)\n",
    "\n",
    "        optimizer.zero_grad()\n",
    "        outputs = model(images)\n",
    "        loss = criterion(outputs, labels)\n",
    "        loss.backward()\n",
    "        optimizer.step()\n",
    "\n",
    "        running_loss += loss.item()\n",
    "        _, preds = torch.max(outputs, 1)\n",
    "        correct += (preds == labels).sum().item()\n",
    "        total += labels.size(0)\n",
    "\n",
    "        loop.set_postfix(loss=loss.item(), accuracy=100 * correct / total)\n",
    "\n",
    "    scheduler.step()\n",
    "    \n",
    "    train_loss = running_loss / len(train_loader)\n",
    "    train_accuracy = 100 * correct / total\n",
    "    train_losses.append(train_loss)\n",
    "    train_accuracies.append(train_accuracy)\n",
    "\n",
    "    # Validation\n",
    "    model.eval()\n",
    "    val_loss = 0.0\n",
    "    y_true, y_pred = [], []\n",
    "\n",
    "    with torch.no_grad():\n",
    "        for images, labels in val_loader:\n",
    "            images, labels = images.to(device), labels.to(device)\n",
    "            outputs = model(images)\n",
    "            loss = criterion(outputs, labels)\n",
    "            val_loss += loss.item()\n",
    "\n",
    "            _, preds = torch.max(outputs, 1)\n",
    "            y_true.extend(labels.cpu().numpy())\n",
    "            y_pred.extend(preds.cpu().numpy())\n",
    "\n",
    "    val_loss = val_loss / len(val_loader)\n",
    "    val_losses.append(val_loss)\n",
    "\n",
    "    val_accuracy = accuracy_score(y_true, y_pred) * 100\n",
    "    val_accuracies.append(val_accuracy)\n",
    "\n",
    "    print(f\"\\nEpoch {epoch+1} - Train Loss: {train_loss:.4f}, Train Acc: {train_accuracy:.2f}%\")\n",
    "    print(f\"\\nEpoch {epoch+1} - Val Loss: {val_loss:.4f}, Val Acc: {val_accuracy:.2f}%\\n\")"
   ]
  },
  {
   "cell_type": "code",
   "execution_count": 8,
   "id": "46b3400a-bb64-4b14-b1ef-d003f72f498f",
   "metadata": {},
   "outputs": [
    {
     "name": "stdout",
     "output_type": "stream",
     "text": [
      "Saved model\n"
     ]
    }
   ],
   "source": [
    "#---------------- Save Model -----------------\n",
    "torch.save(model.state_dict(), os.path.join(results_dir, f\"{model_name}_trained.pth\"))\n",
    "print(\"Saved model\")"
   ]
  },
  {
   "cell_type": "code",
   "execution_count": null,
   "id": "71b2248d-a397-479c-92e3-f3cf37ac69a7",
   "metadata": {},
   "outputs": [],
   "source": [
    "# ----------------- Evaluation -----------------\n",
    "start_time = time.time()\n",
    "model.eval()\n",
    "y_true, y_pred = [], []\n",
    "\n",
    "with torch.no_grad():\n",
    "    for images, labels in val_loader:\n",
    "        images, labels = images.to(device), labels.to(device)\n",
    "        outputs = model(images)\n",
    "        _, preds = torch.max(outputs, 1)\n",
    "        y_true.extend(labels.cpu().numpy())\n",
    "        y_pred.extend(preds.cpu().numpy())\n",
    "\n",
    "inference_time = time.time() - start_time\n",
    "\n",
    "accuracy = accuracy_score(y_true, y_pred)\n",
    "precision = precision_score(y_true, y_pred, average='macro', zero_division=0)\n",
    "recall = recall_score(y_true, y_pred, average='macro', zero_division=0)\n",
    "\n",
    "print(f\"Final Results: Accuracy={accuracy:.4f}, Precision={precision:.4f}, Recall={recall:.4f}, Inference Time={inference_time:.2f}s\")"
   ]
  },
  {
   "cell_type": "code",
   "execution_count": null,
   "id": "9ab1be70-9f7b-4d37-80a0-f1f86ac9240f",
   "metadata": {},
   "outputs": [],
   "source": [
    "#--------------- Save Results to a csv file ------------------\n",
    "csv_file = os.path.join(results_dir, \"eval_results.csv\")\n",
    "file_exists = os.path.isfile(csv_file)\n",
    "\n",
    "with open(csv_file, mode=\"a\", newline=\"\") as f:\n",
    "    writer = csv.writer(f)\n",
    "    if not file_exists:\n",
    "        writer.writerow([\"Model\", \"Accuracy\", \"Precision\", \"Recall\", \"Inference_Time\"])\n",
    "    writer.writerow([model_name, accuracy, precision, recall, inference_time])\n",
    "\n",
    "print(\"Saved Results\")"
   ]
  },
  {
   "cell_type": "code",
   "execution_count": null,
   "id": "602c0438-498a-448c-84e0-22672c6eb5b5",
   "metadata": {},
   "outputs": [],
   "source": [
    "# ----------------- Plotting -----------------\n",
    "import numpy as np\n",
    "# Train/Val Loss\n",
    "plt.figure(figsize=(12,8), num=1)\n",
    "plt.plot(range(1, epochs+1), train_losses, label='Train Loss')\n",
    "plt.plot(range(1, epochs+1), val_losses, label='Validation Loss')\n",
    "plt.xlabel('Epoch')\n",
    "plt.ylabel('Loss')\n",
    "plt.xticks(np.arange(0, epochs+1, 5))\n",
    "plt.legend()\n",
    "plt.grid()\n",
    "plt.title('Loss Curve')\n",
    "plt.savefig(os.path.join(results_dir, \"loss_curve_cnn.png\"))\n",
    "\n",
    "# Train/Val Accuracy\n",
    "plt.figure()\n",
    "plt.plot(range(1, epochs+1), train_accuracies, label='Train Accuracy')\n",
    "plt.plot(range(1, epochs+1), val_accuracies, label='Validation Accuracy')\n",
    "plt.xlabel('Epoch')\n",
    "plt.ylabel('Accuracy (%)')\n",
    "plt.xticks(np.arange(0, epochs+1, 5))\n",
    "plt.legend()\n",
    "plt.grid()\n",
    "plt.title('Accuracy Curve')\n",
    "plt.savefig(os.path.join(results_dir, \"accuracy_curve_cnn.png\"))\n",
    "\n",
    "# Confusion Matrix\n",
    "cm = confusion_matrix(y_true, y_pred)\n",
    "plt.figure(figsize=(10,8))\n",
    "ConfusionMatrixDisplay(cm, display_labels=val_dataset.classes).plot(values_format='d', cmap='Blues')\n",
    "plt.title('Confusion Matrix')\n",
    "plt.xticks(rotation=90)\n",
    "plt.savefig(os.path.join(results_dir, \"confusion_matrix_cnn.png\"))"
   ]
  }
 ],
 "metadata": {
  "kernelspec": {
   "display_name": "eurosatenv",
   "language": "python",
   "name": "eurosatenv"
  },
  "language_info": {
   "codemirror_mode": {
    "name": "ipython",
    "version": 3
   },
   "file_extension": ".py",
   "mimetype": "text/x-python",
   "name": "python",
   "nbconvert_exporter": "python",
   "pygments_lexer": "ipython3",
   "version": "3.8.6"
  }
 },
 "nbformat": 4,
 "nbformat_minor": 5
}
