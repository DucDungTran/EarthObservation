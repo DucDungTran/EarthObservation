{
 "cells": [
  {
   "cell_type": "markdown",
   "id": "0c4374e8",
   "metadata": {},
   "source": [
    "# Preprocessing data for TimeSen2Crop\n",
    "\n",
    "Raw time series data:\n",
    "\n",
    "    + Convert to 12 monthly composites using the median of clear pixels.\n",
    "\n",
    "    + Remove cloudy/snowy/shadowed values.\n",
    "\n",
    "    + If no clear value exists in a month, that month’s data is set to zero.\n",
    "\n",
    "Output:\n",
    "\n",
    "    + Clean data\n",
    "    \n",
    "    + Labels for each sample (each sample (pixel) belongs to which class: 0, ..., 15)"
   ]
  },
  {
   "cell_type": "code",
   "execution_count": null,
   "id": "e7ed719e",
   "metadata": {},
   "outputs": [],
   "source": [
    "data_root = \"/scratch/users/dtran/croptype/dataset/TimeSen2Crop\"\n",
    "\n",
    "# === Main process ===\n",
    "# Initialize varialbes for output\n",
    "all_data, all_label = [], []\n",
    "label_map = build_label_map(data_root)\n",
    "\n",
    "# Go into each sample\n",
    "for tile in tqdm(sorted(os.listdir(data_root)), desc=\"Tiles\"):\n",
    "    # sorted alphabetically list of tiles\n",
    "    # The desc=\"Tiles\" part just adds the label \"Tiles\" in front of the progress bar of tqdm.\n",
    "    # Create tile_path and check\n",
    "    tile_path = os.path.join(data_root, tile)\n",
    "    if not os.path.isdir(tile_path): continue\n",
    "\n",
    "    # Load acquisition dates\n",
    "    dates_path = os.path.join(tile_path, \"dates.csv\")\n",
    "    if not os.path.isdir(dates_path):\n",
    "        print(f\"Missing {dates_path}, skipping...\")\n",
    "        continue\n",
    "    try:\n",
    "        date_list = pd.read_csv(dates_path)[\"acquisition_date\"].tolist()#access the column named \"acquisition_date\" in the dates_path\n",
    "    except Exception as e:\n",
    "        print(f\"Could not read dates.csv file in {tile}: {e}\")\n",
    "        continue\n",
    "    \n",
    "    # Go into each class in tile\n",
    "    for cls in sorted(os.listdir(tile_path)):\n",
    "        # Create class path and check\n",
    "        cls_path = os.path.join(tile_path, cls)\n",
    "        if not os.path.isdir(cls_path) or not cls.isdigit(): continue\n",
    "        # Take label of class cls\n",
    "        label = label_map[cls]\n",
    "        \n",
    "        # Go into each file in class cls\n",
    "        for file in sorted(os.listdir(cls_path)):\n",
    "            # Check file\n",
    "            if not file.endswith(\".csv\"): continue\n",
    "            # The try–except block here is used to make the data processing robust and resilient to individual file errors without stopping the whole program.\n",
    "            # Without try–except: One bad file would cause the whole script to fail. That's especially painful when you're processing hundreds or thousands of files.\n",
    "            try:\n",
    "                # Read data file and calculate result\n",
    "                df = pd.read_csv(os.path.join(cls_path, file))\n",
    "                if len(df) != len(date_list): continue\n",
    "                result = extract_monthly_median(df, date_list)\n",
    "                all_data.append(result)\n",
    "                all_label.append(label)\n",
    "            except Exception as e:\n",
    "                print(f\"Error in {cls}/{file}: {e}\")\n",
    "\n",
    "# Save final tensor"
   ]
  },
  {
   "cell_type": "markdown",
   "id": "29950c59",
   "metadata": {},
   "source": [
    "# Build label map, extract_monthly_median\n",
    "## Build label map function"
   ]
  },
  {
   "cell_type": "code",
   "execution_count": null,
   "id": "f9671c61",
   "metadata": {},
   "outputs": [],
   "source": [
    "# data_root is a parameter, expected to be a string.\n",
    "# -> dict: The function is expected to return a dictionary. Specifically, the dictionary will map class folder names like \"Class 1\" to numeric values like 1.\n",
    "def build_label_map(data_root: str) -> dict:\n",
    "    label_map = {}\n",
    "    for tile in os.listdir(data_root):\n",
    "        tile_path = os.path.join(data_root, tile)\n",
    "        if not os.path.isdir(tile_path): continue\n",
    "        for cls in os.listdir(tile_path):\n",
    "            cls_path = os.path.join(tile_path, cls)\n",
    "            if os.path.isdir(cls_path) and cls.isdigit() and cls not in label_map:\n",
    "                label_map[cls] = int(cls)\n",
    "    return label_map"
   ]
  },
  {
   "cell_type": "markdown",
   "id": "6d09dbbb",
   "metadata": {},
   "source": [
    "## extract_monthly_median function"
   ]
  },
  {
   "cell_type": "code",
   "execution_count": null,
   "id": "ee68f3cb",
   "metadata": {},
   "outputs": [],
   "source": [
    "from datetime import datetime\n",
    "n_bands = 9\n",
    "n_months = 12\n",
    "band_indices = list(range(9))\n",
    "flag_col = 'Flag'\n",
    "def extract_monthly_median(data: pd.DataFrame, dates: list) -> np.ndarray:\n",
    "    \"\"\"Compute monthly medians for clear pixels.\"\"\"\n",
    "    reflectance = data.iloc[:, band_indices].values\n",
    "    # .iloc[] is a Pandas function that is used for index-based selection. It allows you to select rows and columns based on their integer position rather than labels.\n",
    "    # .values converts the selected DataFrame portion into a NumPy array.\n",
    "    flags = data[flag_col].values\n",
    "    months = [datetime.strptime(d, \"%Y%m%d\").month for d in dates]\n",
    "    # strptime() is to convert a string that represents a date or time into a Python datetime object so you can easily work with it (e.g., perform date arithmetic, extract the month or year, etc.).\n",
    "    # Date format: %Y%m%d or %Y-%m-%d\n",
    "    # Time format: %H:%M:%S\n",
    "    monthly = np.zeros((n_months, n_bands), dtype=np.float32)\n",
    "\n",
    "    for m in range(1, 13):\n",
    "        idx = [i for i, mo in enumerate(months) if mo == m and flags[i] == 0]\n",
    "        if idx:\n",
    "            monthly[m - 1] = np.median(reflectance[idx], axis=0)\n",
    "        else:\n",
    "            monthly[m - 1] = 0.0\n",
    "    return monthly"
   ]
  }
 ],
 "metadata": {
  "kernelspec": {
   "display_name": "dung_env",
   "language": "python",
   "name": "python3"
  },
  "language_info": {
   "codemirror_mode": {
    "name": "ipython",
    "version": 3
   },
   "file_extension": ".py",
   "mimetype": "text/x-python",
   "name": "python",
   "nbconvert_exporter": "python",
   "pygments_lexer": "ipython3",
   "version": "3.11.8"
  }
 },
 "nbformat": 4,
 "nbformat_minor": 5
}
